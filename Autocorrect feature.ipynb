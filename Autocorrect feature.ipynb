{
 "cells": [
  {
   "cell_type": "markdown",
   "id": "73aa51e7",
   "metadata": {},
   "source": [
    "# Autocorrector Feature"
   ]
  },
  {
   "cell_type": "markdown",
   "id": "8b1f10fe",
   "metadata": {},
   "source": [
    "Autocorrect is a way of predicting or making the wrong spellings correct, which makes the tasks like writing paragraphs, reports, and articles easier. Today there are a lot of Websites and Social media platforms that use this concept to make web apps user-friendly."
   ]
  },
  {
   "cell_type": "markdown",
   "id": "f5f8dd41",
   "metadata": {},
   "source": [
    "Using NTLK Library for the implementation of NLP-related tasks."
   ]
  },
  {
   "cell_type": "code",
   "execution_count": 3,
   "id": "d6985f93",
   "metadata": {},
   "outputs": [
    {
     "name": "stderr",
     "output_type": "stream",
     "text": [
      "[nltk_data] Downloading collection 'all'\n",
      "[nltk_data]    | \n",
      "[nltk_data]    | Downloading package abc to\n",
      "[nltk_data]    |     C:\\Users\\death\\AppData\\Roaming\\nltk_data...\n",
      "[nltk_data]    |   Package abc is already up-to-date!\n",
      "[nltk_data]    | Downloading package alpino to\n",
      "[nltk_data]    |     C:\\Users\\death\\AppData\\Roaming\\nltk_data...\n",
      "[nltk_data]    |   Package alpino is already up-to-date!\n",
      "[nltk_data]    | Downloading package averaged_perceptron_tagger to\n",
      "[nltk_data]    |     C:\\Users\\death\\AppData\\Roaming\\nltk_data...\n",
      "[nltk_data]    |   Package averaged_perceptron_tagger is already up-\n",
      "[nltk_data]    |       to-date!\n",
      "[nltk_data]    | Downloading package averaged_perceptron_tagger_ru to\n",
      "[nltk_data]    |     C:\\Users\\death\\AppData\\Roaming\\nltk_data...\n",
      "[nltk_data]    |   Package averaged_perceptron_tagger_ru is already\n",
      "[nltk_data]    |       up-to-date!\n",
      "[nltk_data]    | Downloading package basque_grammars to\n",
      "[nltk_data]    |     C:\\Users\\death\\AppData\\Roaming\\nltk_data...\n",
      "[nltk_data]    |   Package basque_grammars is already up-to-date!\n",
      "[nltk_data]    | Downloading package bcp47 to\n",
      "[nltk_data]    |     C:\\Users\\death\\AppData\\Roaming\\nltk_data...\n",
      "[nltk_data]    |   Package bcp47 is already up-to-date!\n",
      "[nltk_data]    | Downloading package biocreative_ppi to\n",
      "[nltk_data]    |     C:\\Users\\death\\AppData\\Roaming\\nltk_data...\n",
      "[nltk_data]    |   Package biocreative_ppi is already up-to-date!\n",
      "[nltk_data]    | Downloading package bllip_wsj_no_aux to\n",
      "[nltk_data]    |     C:\\Users\\death\\AppData\\Roaming\\nltk_data...\n",
      "[nltk_data]    |   Package bllip_wsj_no_aux is already up-to-date!\n",
      "[nltk_data]    | Downloading package book_grammars to\n",
      "[nltk_data]    |     C:\\Users\\death\\AppData\\Roaming\\nltk_data...\n",
      "[nltk_data]    |   Package book_grammars is already up-to-date!\n",
      "[nltk_data]    | Downloading package brown to\n",
      "[nltk_data]    |     C:\\Users\\death\\AppData\\Roaming\\nltk_data...\n",
      "[nltk_data]    |   Package brown is already up-to-date!\n",
      "[nltk_data]    | Downloading package brown_tei to\n",
      "[nltk_data]    |     C:\\Users\\death\\AppData\\Roaming\\nltk_data...\n",
      "[nltk_data]    |   Package brown_tei is already up-to-date!\n",
      "[nltk_data]    | Downloading package cess_cat to\n",
      "[nltk_data]    |     C:\\Users\\death\\AppData\\Roaming\\nltk_data...\n",
      "[nltk_data]    |   Package cess_cat is already up-to-date!\n",
      "[nltk_data]    | Downloading package cess_esp to\n",
      "[nltk_data]    |     C:\\Users\\death\\AppData\\Roaming\\nltk_data...\n",
      "[nltk_data]    |   Package cess_esp is already up-to-date!\n",
      "[nltk_data]    | Downloading package chat80 to\n",
      "[nltk_data]    |     C:\\Users\\death\\AppData\\Roaming\\nltk_data...\n",
      "[nltk_data]    |   Package chat80 is already up-to-date!\n",
      "[nltk_data]    | Downloading package city_database to\n",
      "[nltk_data]    |     C:\\Users\\death\\AppData\\Roaming\\nltk_data...\n",
      "[nltk_data]    |   Package city_database is already up-to-date!\n",
      "[nltk_data]    | Downloading package cmudict to\n",
      "[nltk_data]    |     C:\\Users\\death\\AppData\\Roaming\\nltk_data...\n",
      "[nltk_data]    |   Package cmudict is already up-to-date!\n",
      "[nltk_data]    | Downloading package comparative_sentences to\n",
      "[nltk_data]    |     C:\\Users\\death\\AppData\\Roaming\\nltk_data...\n",
      "[nltk_data]    |   Package comparative_sentences is already up-to-\n",
      "[nltk_data]    |       date!\n",
      "[nltk_data]    | Downloading package comtrans to\n",
      "[nltk_data]    |     C:\\Users\\death\\AppData\\Roaming\\nltk_data...\n",
      "[nltk_data]    |   Package comtrans is already up-to-date!\n",
      "[nltk_data]    | Downloading package conll2000 to\n",
      "[nltk_data]    |     C:\\Users\\death\\AppData\\Roaming\\nltk_data...\n",
      "[nltk_data]    |   Package conll2000 is already up-to-date!\n",
      "[nltk_data]    | Downloading package conll2002 to\n",
      "[nltk_data]    |     C:\\Users\\death\\AppData\\Roaming\\nltk_data...\n",
      "[nltk_data]    |   Package conll2002 is already up-to-date!\n",
      "[nltk_data]    | Downloading package conll2007 to\n",
      "[nltk_data]    |     C:\\Users\\death\\AppData\\Roaming\\nltk_data...\n",
      "[nltk_data]    |   Package conll2007 is already up-to-date!\n",
      "[nltk_data]    | Downloading package crubadan to\n",
      "[nltk_data]    |     C:\\Users\\death\\AppData\\Roaming\\nltk_data...\n",
      "[nltk_data]    |   Package crubadan is already up-to-date!\n",
      "[nltk_data]    | Downloading package dependency_treebank to\n",
      "[nltk_data]    |     C:\\Users\\death\\AppData\\Roaming\\nltk_data...\n",
      "[nltk_data]    |   Package dependency_treebank is already up-to-date!\n",
      "[nltk_data]    | Downloading package dolch to\n",
      "[nltk_data]    |     C:\\Users\\death\\AppData\\Roaming\\nltk_data...\n",
      "[nltk_data]    |   Package dolch is already up-to-date!\n",
      "[nltk_data]    | Downloading package europarl_raw to\n",
      "[nltk_data]    |     C:\\Users\\death\\AppData\\Roaming\\nltk_data...\n",
      "[nltk_data]    |   Package europarl_raw is already up-to-date!\n",
      "[nltk_data]    | Downloading package extended_omw to\n",
      "[nltk_data]    |     C:\\Users\\death\\AppData\\Roaming\\nltk_data...\n",
      "[nltk_data]    |   Package extended_omw is already up-to-date!\n",
      "[nltk_data]    | Downloading package floresta to\n",
      "[nltk_data]    |     C:\\Users\\death\\AppData\\Roaming\\nltk_data...\n",
      "[nltk_data]    |   Package floresta is already up-to-date!\n",
      "[nltk_data]    | Downloading package framenet_v15 to\n",
      "[nltk_data]    |     C:\\Users\\death\\AppData\\Roaming\\nltk_data...\n",
      "[nltk_data]    |   Package framenet_v15 is already up-to-date!\n",
      "[nltk_data]    | Downloading package framenet_v17 to\n",
      "[nltk_data]    |     C:\\Users\\death\\AppData\\Roaming\\nltk_data...\n",
      "[nltk_data]    |   Package framenet_v17 is already up-to-date!\n",
      "[nltk_data]    | Downloading package gazetteers to\n",
      "[nltk_data]    |     C:\\Users\\death\\AppData\\Roaming\\nltk_data...\n",
      "[nltk_data]    |   Package gazetteers is already up-to-date!\n",
      "[nltk_data]    | Downloading package genesis to\n",
      "[nltk_data]    |     C:\\Users\\death\\AppData\\Roaming\\nltk_data...\n",
      "[nltk_data]    |   Package genesis is already up-to-date!\n",
      "[nltk_data]    | Downloading package gutenberg to\n",
      "[nltk_data]    |     C:\\Users\\death\\AppData\\Roaming\\nltk_data...\n",
      "[nltk_data]    |   Package gutenberg is already up-to-date!\n",
      "[nltk_data]    | Downloading package ieer to\n",
      "[nltk_data]    |     C:\\Users\\death\\AppData\\Roaming\\nltk_data...\n",
      "[nltk_data]    |   Package ieer is already up-to-date!\n",
      "[nltk_data]    | Downloading package inaugural to\n",
      "[nltk_data]    |     C:\\Users\\death\\AppData\\Roaming\\nltk_data...\n",
      "[nltk_data]    |   Package inaugural is already up-to-date!\n",
      "[nltk_data]    | Downloading package indian to\n",
      "[nltk_data]    |     C:\\Users\\death\\AppData\\Roaming\\nltk_data...\n",
      "[nltk_data]    |   Package indian is already up-to-date!\n",
      "[nltk_data]    | Downloading package jeita to\n",
      "[nltk_data]    |     C:\\Users\\death\\AppData\\Roaming\\nltk_data...\n",
      "[nltk_data]    |   Package jeita is already up-to-date!\n",
      "[nltk_data]    | Downloading package kimmo to\n",
      "[nltk_data]    |     C:\\Users\\death\\AppData\\Roaming\\nltk_data...\n",
      "[nltk_data]    |   Package kimmo is already up-to-date!\n",
      "[nltk_data]    | Downloading package knbc to\n",
      "[nltk_data]    |     C:\\Users\\death\\AppData\\Roaming\\nltk_data...\n",
      "[nltk_data]    |   Package knbc is already up-to-date!\n",
      "[nltk_data]    | Downloading package large_grammars to\n",
      "[nltk_data]    |     C:\\Users\\death\\AppData\\Roaming\\nltk_data...\n",
      "[nltk_data]    |   Package large_grammars is already up-to-date!\n",
      "[nltk_data]    | Downloading package lin_thesaurus to\n",
      "[nltk_data]    |     C:\\Users\\death\\AppData\\Roaming\\nltk_data...\n",
      "[nltk_data]    |   Package lin_thesaurus is already up-to-date!\n",
      "[nltk_data]    | Downloading package mac_morpho to\n",
      "[nltk_data]    |     C:\\Users\\death\\AppData\\Roaming\\nltk_data...\n",
      "[nltk_data]    |   Package mac_morpho is already up-to-date!\n",
      "[nltk_data]    | Downloading package machado to\n",
      "[nltk_data]    |     C:\\Users\\death\\AppData\\Roaming\\nltk_data...\n",
      "[nltk_data]    |   Package machado is already up-to-date!\n",
      "[nltk_data]    | Downloading package masc_tagged to\n",
      "[nltk_data]    |     C:\\Users\\death\\AppData\\Roaming\\nltk_data...\n",
      "[nltk_data]    |   Package masc_tagged is already up-to-date!\n",
      "[nltk_data]    | Downloading package maxent_ne_chunker to\n",
      "[nltk_data]    |     C:\\Users\\death\\AppData\\Roaming\\nltk_data...\n",
      "[nltk_data]    |   Package maxent_ne_chunker is already up-to-date!\n",
      "[nltk_data]    | Downloading package maxent_treebank_pos_tagger to\n",
      "[nltk_data]    |     C:\\Users\\death\\AppData\\Roaming\\nltk_data...\n",
      "[nltk_data]    |   Package maxent_treebank_pos_tagger is already up-\n",
      "[nltk_data]    |       to-date!\n",
      "[nltk_data]    | Downloading package moses_sample to\n",
      "[nltk_data]    |     C:\\Users\\death\\AppData\\Roaming\\nltk_data...\n",
      "[nltk_data]    |   Package moses_sample is already up-to-date!\n",
      "[nltk_data]    | Downloading package movie_reviews to\n",
      "[nltk_data]    |     C:\\Users\\death\\AppData\\Roaming\\nltk_data...\n",
      "[nltk_data]    |   Package movie_reviews is already up-to-date!\n",
      "[nltk_data]    | Downloading package mte_teip5 to\n",
      "[nltk_data]    |     C:\\Users\\death\\AppData\\Roaming\\nltk_data...\n",
      "[nltk_data]    |   Package mte_teip5 is already up-to-date!\n",
      "[nltk_data]    | Downloading package mwa_ppdb to\n",
      "[nltk_data]    |     C:\\Users\\death\\AppData\\Roaming\\nltk_data...\n",
      "[nltk_data]    |   Package mwa_ppdb is already up-to-date!\n",
      "[nltk_data]    | Downloading package names to\n",
      "[nltk_data]    |     C:\\Users\\death\\AppData\\Roaming\\nltk_data...\n",
      "[nltk_data]    |   Package names is already up-to-date!\n",
      "[nltk_data]    | Downloading package nombank.1.0 to\n",
      "[nltk_data]    |     C:\\Users\\death\\AppData\\Roaming\\nltk_data...\n",
      "[nltk_data]    |   Package nombank.1.0 is already up-to-date!\n",
      "[nltk_data]    | Downloading package nonbreaking_prefixes to\n",
      "[nltk_data]    |     C:\\Users\\death\\AppData\\Roaming\\nltk_data...\n",
      "[nltk_data]    |   Package nonbreaking_prefixes is already up-to-date!\n",
      "[nltk_data]    | Downloading package nps_chat to\n",
      "[nltk_data]    |     C:\\Users\\death\\AppData\\Roaming\\nltk_data...\n",
      "[nltk_data]    |   Package nps_chat is already up-to-date!\n",
      "[nltk_data]    | Downloading package omw to\n",
      "[nltk_data]    |     C:\\Users\\death\\AppData\\Roaming\\nltk_data...\n",
      "[nltk_data]    |   Package omw is already up-to-date!\n",
      "[nltk_data]    | Downloading package omw-1.4 to\n",
      "[nltk_data]    |     C:\\Users\\death\\AppData\\Roaming\\nltk_data...\n",
      "[nltk_data]    |   Package omw-1.4 is already up-to-date!\n",
      "[nltk_data]    | Downloading package opinion_lexicon to\n",
      "[nltk_data]    |     C:\\Users\\death\\AppData\\Roaming\\nltk_data...\n",
      "[nltk_data]    |   Package opinion_lexicon is already up-to-date!\n",
      "[nltk_data]    | Downloading package panlex_swadesh to\n",
      "[nltk_data]    |     C:\\Users\\death\\AppData\\Roaming\\nltk_data...\n",
      "[nltk_data]    |   Package panlex_swadesh is already up-to-date!\n",
      "[nltk_data]    | Downloading package paradigms to\n",
      "[nltk_data]    |     C:\\Users\\death\\AppData\\Roaming\\nltk_data...\n",
      "[nltk_data]    |   Package paradigms is already up-to-date!\n",
      "[nltk_data]    | Downloading package pe08 to\n",
      "[nltk_data]    |     C:\\Users\\death\\AppData\\Roaming\\nltk_data...\n",
      "[nltk_data]    |   Package pe08 is already up-to-date!\n",
      "[nltk_data]    | Downloading package perluniprops to\n",
      "[nltk_data]    |     C:\\Users\\death\\AppData\\Roaming\\nltk_data...\n",
      "[nltk_data]    |   Package perluniprops is already up-to-date!\n",
      "[nltk_data]    | Downloading package pil to\n",
      "[nltk_data]    |     C:\\Users\\death\\AppData\\Roaming\\nltk_data...\n",
      "[nltk_data]    |   Package pil is already up-to-date!\n",
      "[nltk_data]    | Downloading package pl196x to\n",
      "[nltk_data]    |     C:\\Users\\death\\AppData\\Roaming\\nltk_data...\n",
      "[nltk_data]    |   Package pl196x is already up-to-date!\n",
      "[nltk_data]    | Downloading package porter_test to\n",
      "[nltk_data]    |     C:\\Users\\death\\AppData\\Roaming\\nltk_data...\n",
      "[nltk_data]    |   Package porter_test is already up-to-date!\n",
      "[nltk_data]    | Downloading package ppattach to\n",
      "[nltk_data]    |     C:\\Users\\death\\AppData\\Roaming\\nltk_data...\n",
      "[nltk_data]    |   Package ppattach is already up-to-date!\n",
      "[nltk_data]    | Downloading package problem_reports to\n",
      "[nltk_data]    |     C:\\Users\\death\\AppData\\Roaming\\nltk_data...\n",
      "[nltk_data]    |   Package problem_reports is already up-to-date!\n",
      "[nltk_data]    | Downloading package product_reviews_1 to\n",
      "[nltk_data]    |     C:\\Users\\death\\AppData\\Roaming\\nltk_data...\n",
      "[nltk_data]    |   Package product_reviews_1 is already up-to-date!\n",
      "[nltk_data]    | Downloading package product_reviews_2 to\n",
      "[nltk_data]    |     C:\\Users\\death\\AppData\\Roaming\\nltk_data...\n",
      "[nltk_data]    |   Package product_reviews_2 is already up-to-date!\n",
      "[nltk_data]    | Downloading package propbank to\n",
      "[nltk_data]    |     C:\\Users\\death\\AppData\\Roaming\\nltk_data...\n",
      "[nltk_data]    |   Package propbank is already up-to-date!\n",
      "[nltk_data]    | Downloading package pros_cons to\n",
      "[nltk_data]    |     C:\\Users\\death\\AppData\\Roaming\\nltk_data...\n",
      "[nltk_data]    |   Package pros_cons is already up-to-date!\n",
      "[nltk_data]    | Downloading package ptb to\n",
      "[nltk_data]    |     C:\\Users\\death\\AppData\\Roaming\\nltk_data...\n",
      "[nltk_data]    |   Package ptb is already up-to-date!\n",
      "[nltk_data]    | Downloading package punkt to\n",
      "[nltk_data]    |     C:\\Users\\death\\AppData\\Roaming\\nltk_data...\n",
      "[nltk_data]    |   Package punkt is already up-to-date!\n",
      "[nltk_data]    | Downloading package qc to\n",
      "[nltk_data]    |     C:\\Users\\death\\AppData\\Roaming\\nltk_data...\n",
      "[nltk_data]    |   Package qc is already up-to-date!\n",
      "[nltk_data]    | Downloading package reuters to\n",
      "[nltk_data]    |     C:\\Users\\death\\AppData\\Roaming\\nltk_data...\n",
      "[nltk_data]    |   Package reuters is already up-to-date!\n",
      "[nltk_data]    | Downloading package rslp to\n",
      "[nltk_data]    |     C:\\Users\\death\\AppData\\Roaming\\nltk_data...\n",
      "[nltk_data]    |   Package rslp is already up-to-date!\n",
      "[nltk_data]    | Downloading package rte to\n",
      "[nltk_data]    |     C:\\Users\\death\\AppData\\Roaming\\nltk_data...\n",
      "[nltk_data]    |   Package rte is already up-to-date!\n",
      "[nltk_data]    | Downloading package sample_grammars to\n",
      "[nltk_data]    |     C:\\Users\\death\\AppData\\Roaming\\nltk_data...\n",
      "[nltk_data]    |   Package sample_grammars is already up-to-date!\n",
      "[nltk_data]    | Downloading package semcor to\n",
      "[nltk_data]    |     C:\\Users\\death\\AppData\\Roaming\\nltk_data...\n",
      "[nltk_data]    |   Package semcor is already up-to-date!\n",
      "[nltk_data]    | Downloading package senseval to\n",
      "[nltk_data]    |     C:\\Users\\death\\AppData\\Roaming\\nltk_data...\n",
      "[nltk_data]    |   Package senseval is already up-to-date!\n",
      "[nltk_data]    | Downloading package sentence_polarity to\n",
      "[nltk_data]    |     C:\\Users\\death\\AppData\\Roaming\\nltk_data...\n",
      "[nltk_data]    |   Package sentence_polarity is already up-to-date!\n",
      "[nltk_data]    | Downloading package sentiwordnet to\n",
      "[nltk_data]    |     C:\\Users\\death\\AppData\\Roaming\\nltk_data...\n",
      "[nltk_data]    |   Package sentiwordnet is already up-to-date!\n",
      "[nltk_data]    | Downloading package shakespeare to\n",
      "[nltk_data]    |     C:\\Users\\death\\AppData\\Roaming\\nltk_data...\n",
      "[nltk_data]    |   Package shakespeare is already up-to-date!\n",
      "[nltk_data]    | Downloading package sinica_treebank to\n",
      "[nltk_data]    |     C:\\Users\\death\\AppData\\Roaming\\nltk_data...\n",
      "[nltk_data]    |   Package sinica_treebank is already up-to-date!\n",
      "[nltk_data]    | Downloading package smultron to\n",
      "[nltk_data]    |     C:\\Users\\death\\AppData\\Roaming\\nltk_data...\n",
      "[nltk_data]    |   Package smultron is already up-to-date!\n",
      "[nltk_data]    | Downloading package snowball_data to\n",
      "[nltk_data]    |     C:\\Users\\death\\AppData\\Roaming\\nltk_data...\n",
      "[nltk_data]    |   Package snowball_data is already up-to-date!\n",
      "[nltk_data]    | Downloading package spanish_grammars to\n",
      "[nltk_data]    |     C:\\Users\\death\\AppData\\Roaming\\nltk_data...\n",
      "[nltk_data]    |   Package spanish_grammars is already up-to-date!\n",
      "[nltk_data]    | Downloading package state_union to\n",
      "[nltk_data]    |     C:\\Users\\death\\AppData\\Roaming\\nltk_data...\n",
      "[nltk_data]    |   Package state_union is already up-to-date!\n",
      "[nltk_data]    | Downloading package stopwords to\n",
      "[nltk_data]    |     C:\\Users\\death\\AppData\\Roaming\\nltk_data...\n",
      "[nltk_data]    |   Package stopwords is already up-to-date!\n",
      "[nltk_data]    | Downloading package subjectivity to\n",
      "[nltk_data]    |     C:\\Users\\death\\AppData\\Roaming\\nltk_data...\n",
      "[nltk_data]    |   Package subjectivity is already up-to-date!\n",
      "[nltk_data]    | Downloading package swadesh to\n",
      "[nltk_data]    |     C:\\Users\\death\\AppData\\Roaming\\nltk_data...\n",
      "[nltk_data]    |   Package swadesh is already up-to-date!\n",
      "[nltk_data]    | Downloading package switchboard to\n",
      "[nltk_data]    |     C:\\Users\\death\\AppData\\Roaming\\nltk_data...\n",
      "[nltk_data]    |   Package switchboard is already up-to-date!\n",
      "[nltk_data]    | Downloading package tagsets to\n",
      "[nltk_data]    |     C:\\Users\\death\\AppData\\Roaming\\nltk_data...\n",
      "[nltk_data]    |   Package tagsets is already up-to-date!\n",
      "[nltk_data]    | Downloading package timit to\n",
      "[nltk_data]    |     C:\\Users\\death\\AppData\\Roaming\\nltk_data...\n",
      "[nltk_data]    |   Package timit is already up-to-date!\n",
      "[nltk_data]    | Downloading package toolbox to\n",
      "[nltk_data]    |     C:\\Users\\death\\AppData\\Roaming\\nltk_data...\n",
      "[nltk_data]    |   Package toolbox is already up-to-date!\n",
      "[nltk_data]    | Downloading package treebank to\n",
      "[nltk_data]    |     C:\\Users\\death\\AppData\\Roaming\\nltk_data...\n",
      "[nltk_data]    |   Package treebank is already up-to-date!\n",
      "[nltk_data]    | Downloading package twitter_samples to\n",
      "[nltk_data]    |     C:\\Users\\death\\AppData\\Roaming\\nltk_data...\n",
      "[nltk_data]    |   Package twitter_samples is already up-to-date!\n",
      "[nltk_data]    | Downloading package udhr to\n",
      "[nltk_data]    |     C:\\Users\\death\\AppData\\Roaming\\nltk_data...\n",
      "[nltk_data]    |   Package udhr is already up-to-date!\n",
      "[nltk_data]    | Downloading package udhr2 to\n",
      "[nltk_data]    |     C:\\Users\\death\\AppData\\Roaming\\nltk_data...\n",
      "[nltk_data]    |   Package udhr2 is already up-to-date!\n",
      "[nltk_data]    | Downloading package unicode_samples to\n",
      "[nltk_data]    |     C:\\Users\\death\\AppData\\Roaming\\nltk_data...\n",
      "[nltk_data]    |   Package unicode_samples is already up-to-date!\n",
      "[nltk_data]    | Downloading package universal_tagset to\n",
      "[nltk_data]    |     C:\\Users\\death\\AppData\\Roaming\\nltk_data...\n",
      "[nltk_data]    |   Package universal_tagset is already up-to-date!\n",
      "[nltk_data]    | Downloading package universal_treebanks_v20 to\n",
      "[nltk_data]    |     C:\\Users\\death\\AppData\\Roaming\\nltk_data...\n",
      "[nltk_data]    |   Package universal_treebanks_v20 is already up-to-\n",
      "[nltk_data]    |       date!\n",
      "[nltk_data]    | Downloading package vader_lexicon to\n",
      "[nltk_data]    |     C:\\Users\\death\\AppData\\Roaming\\nltk_data...\n",
      "[nltk_data]    |   Package vader_lexicon is already up-to-date!\n",
      "[nltk_data]    | Downloading package verbnet to\n",
      "[nltk_data]    |     C:\\Users\\death\\AppData\\Roaming\\nltk_data...\n",
      "[nltk_data]    |   Package verbnet is already up-to-date!\n",
      "[nltk_data]    | Downloading package verbnet3 to\n",
      "[nltk_data]    |     C:\\Users\\death\\AppData\\Roaming\\nltk_data...\n",
      "[nltk_data]    |   Package verbnet3 is already up-to-date!\n",
      "[nltk_data]    | Downloading package webtext to\n",
      "[nltk_data]    |     C:\\Users\\death\\AppData\\Roaming\\nltk_data...\n",
      "[nltk_data]    |   Package webtext is already up-to-date!\n",
      "[nltk_data]    | Downloading package wmt15_eval to\n",
      "[nltk_data]    |     C:\\Users\\death\\AppData\\Roaming\\nltk_data...\n",
      "[nltk_data]    |   Package wmt15_eval is already up-to-date!\n",
      "[nltk_data]    | Downloading package word2vec_sample to\n",
      "[nltk_data]    |     C:\\Users\\death\\AppData\\Roaming\\nltk_data...\n",
      "[nltk_data]    |   Package word2vec_sample is already up-to-date!\n",
      "[nltk_data]    | Downloading package wordnet to\n",
      "[nltk_data]    |     C:\\Users\\death\\AppData\\Roaming\\nltk_data...\n",
      "[nltk_data]    |   Package wordnet is already up-to-date!\n",
      "[nltk_data]    | Downloading package wordnet2021 to\n",
      "[nltk_data]    |     C:\\Users\\death\\AppData\\Roaming\\nltk_data...\n",
      "[nltk_data]    |   Package wordnet2021 is already up-to-date!\n",
      "[nltk_data]    | Downloading package wordnet2022 to\n",
      "[nltk_data]    |     C:\\Users\\death\\AppData\\Roaming\\nltk_data...\n",
      "[nltk_data]    |   Package wordnet2022 is already up-to-date!\n",
      "[nltk_data]    | Downloading package wordnet31 to\n",
      "[nltk_data]    |     C:\\Users\\death\\AppData\\Roaming\\nltk_data...\n",
      "[nltk_data]    |   Package wordnet31 is already up-to-date!\n",
      "[nltk_data]    | Downloading package wordnet_ic to\n",
      "[nltk_data]    |     C:\\Users\\death\\AppData\\Roaming\\nltk_data...\n",
      "[nltk_data]    |   Package wordnet_ic is already up-to-date!\n",
      "[nltk_data]    | Downloading package words to\n",
      "[nltk_data]    |     C:\\Users\\death\\AppData\\Roaming\\nltk_data...\n",
      "[nltk_data]    |   Package words is already up-to-date!\n",
      "[nltk_data]    | Downloading package ycoe to\n",
      "[nltk_data]    |     C:\\Users\\death\\AppData\\Roaming\\nltk_data...\n",
      "[nltk_data]    |   Package ycoe is already up-to-date!\n",
      "[nltk_data]    | \n",
      "[nltk_data]  Done downloading collection all\n"
     ]
    },
    {
     "data": {
      "text/plain": [
       "True"
      ]
     },
     "execution_count": 3,
     "metadata": {},
     "output_type": "execute_result"
    }
   ],
   "source": [
    "import nltk\n",
    "nltk.download('all')"
   ]
  },
  {
   "cell_type": "markdown",
   "id": "ce615322",
   "metadata": {},
   "source": [
    "# Reading Text"
   ]
  },
  {
   "cell_type": "code",
   "execution_count": 4,
   "id": "57791fb3",
   "metadata": {},
   "outputs": [],
   "source": [
    "# importing regular expression\n",
    "import re\n",
    " \n",
    "# words\n",
    "input_words = []\n",
    " \n",
    "# reading text file\n",
    "with open('final.txt', 'r', encoding=\"utf8\") as f:\n",
    "    file_name_data = f.read()\n",
    "    file_name_data = file_name_data.lower()\n",
    "    input_words = re.findall('\\w+', file_name_data)\n",
    " \n",
    "# vocabulary\n",
    "vocab = set(input_words)"
   ]
  },
  {
   "cell_type": "markdown",
   "id": "fa61f48a",
   "metadata": {},
   "source": [
    "Now we have to count the words and store their frequency. For that we will use dictionary."
   ]
  },
  {
   "cell_type": "code",
   "execution_count": 5,
   "id": "a2893d18",
   "metadata": {},
   "outputs": [
    {
     "data": {
      "text/plain": [
       "['copyright',\n",
       " 'laws',\n",
       " 'are',\n",
       " 'changing',\n",
       " 'all',\n",
       " 'over',\n",
       " 'the',\n",
       " 'world',\n",
       " 'be',\n",
       " 'sure']"
      ]
     },
     "execution_count": 5,
     "metadata": {},
     "output_type": "execute_result"
    }
   ],
   "source": [
    "input_words[0:10]"
   ]
  },
  {
   "cell_type": "markdown",
   "id": "77b979f7",
   "metadata": {},
   "source": [
    "# Supporting Functions"
   ]
  },
  {
   "cell_type": "code",
   "execution_count": 6,
   "id": "2d66b096",
   "metadata": {},
   "outputs": [],
   "source": [
    "# Functions to count the frequency\n",
    "# of the words in the whole text file\n",
    "  \n",
    "def counting_words(words):\n",
    "    word_count = {}\n",
    "    for word in words:\n",
    "        if word in word_count:\n",
    "            word_count[word] += 1\n",
    "        else:\n",
    "            word_count[word] = 1\n",
    "    return word_count\n"
   ]
  },
  {
   "cell_type": "markdown",
   "id": "535e5a51",
   "metadata": {},
   "source": [
    "Then to calculate the probability of the words prob_cal function is used."
   ]
  },
  {
   "cell_type": "code",
   "execution_count": 7,
   "id": "f8342a08",
   "metadata": {},
   "outputs": [],
   "source": [
    "# Calculating the probability of each word\n",
    "def prob_cal(word_count_dict):\n",
    "    probs = {}\n",
    "    m = sum(word_count_dict.values())\n",
    "    for key in word_count_dict.keys():\n",
    "        probs[key] = word_count_dict[key] / m\n",
    "    return probs"
   ]
  },
  {
   "cell_type": "markdown",
   "id": "e45a01b0",
   "metadata": {},
   "source": [
    "The further code is divided into 5 main parts, that includes the creation of all types of different words that are possible.\n",
    "\n",
    "To do this, we can use : \n",
    "\n",
    "    --> Lemmatization\n",
    "    --> Deletion of letter\n",
    "    --> Switching Letter\n",
    "    --> Replace Letter\n",
    "    --> Insert new Letter\n"
   ]
  },
  {
   "cell_type": "code",
   "execution_count": 8,
   "id": "30b1b099",
   "metadata": {},
   "outputs": [
    {
     "name": "stdout",
     "output_type": "stream",
     "text": [
      "Requirement already satisfied: pattern in c:\\users\\death\\anaconda3\\lib\\site-packages (3.6)\n",
      "Requirement already satisfied: future in c:\\users\\death\\anaconda3\\lib\\site-packages (from pattern) (0.18.3)\n",
      "Requirement already satisfied: backports.csv in c:\\users\\death\\anaconda3\\lib\\site-packages (from pattern) (1.0.7)\n",
      "Requirement already satisfied: mysqlclient in c:\\users\\death\\anaconda3\\lib\\site-packages (from pattern) (2.2.0)\n",
      "Requirement already satisfied: beautifulsoup4 in c:\\users\\death\\anaconda3\\lib\\site-packages (from pattern) (4.12.2)\n",
      "Requirement already satisfied: lxml in c:\\users\\death\\anaconda3\\lib\\site-packages (from pattern) (4.9.3)\n",
      "Requirement already satisfied: feedparser in c:\\users\\death\\anaconda3\\lib\\site-packages (from pattern) (6.0.10)\n",
      "Requirement already satisfied: pdfminer.six in c:\\users\\death\\anaconda3\\lib\\site-packages (from pattern) (20221105)\n",
      "Requirement already satisfied: numpy in c:\\users\\death\\anaconda3\\lib\\site-packages (from pattern) (1.24.3)\n",
      "Requirement already satisfied: scipy in c:\\users\\death\\anaconda3\\lib\\site-packages (from pattern) (1.11.3)\n",
      "Requirement already satisfied: nltk in c:\\users\\death\\anaconda3\\lib\\site-packages (from pattern) (3.8.1)\n",
      "Requirement already satisfied: python-docx in c:\\users\\death\\anaconda3\\lib\\site-packages (from pattern) (1.0.1)\n",
      "Requirement already satisfied: cherrypy in c:\\users\\death\\anaconda3\\lib\\site-packages (from pattern) (18.8.0)\n",
      "Requirement already satisfied: requests in c:\\users\\death\\anaconda3\\lib\\site-packages (from pattern) (2.31.0)\n",
      "Requirement already satisfied: soupsieve>1.2 in c:\\users\\death\\anaconda3\\lib\\site-packages (from beautifulsoup4->pattern) (2.5)\n",
      "Requirement already satisfied: cheroot>=8.2.1 in c:\\users\\death\\anaconda3\\lib\\site-packages (from cherrypy->pattern) (10.0.0)\n",
      "Requirement already satisfied: portend>=2.1.1 in c:\\users\\death\\anaconda3\\lib\\site-packages (from cherrypy->pattern) (3.2.0)\n",
      "Requirement already satisfied: more-itertools in c:\\users\\death\\anaconda3\\lib\\site-packages (from cherrypy->pattern) (8.12.0)\n",
      "Requirement already satisfied: zc.lockfile in c:\\users\\death\\anaconda3\\lib\\site-packages (from cherrypy->pattern) (3.0.post1)\n",
      "Requirement already satisfied: jaraco.collections in c:\\users\\death\\anaconda3\\lib\\site-packages (from cherrypy->pattern) (4.3.0)\n",
      "Requirement already satisfied: pywin32>=227 in c:\\users\\death\\anaconda3\\lib\\site-packages (from cherrypy->pattern) (305.1)\n",
      "Requirement already satisfied: sgmllib3k in c:\\users\\death\\anaconda3\\lib\\site-packages (from feedparser->pattern) (1.0.0)\n",
      "Requirement already satisfied: click in c:\\users\\death\\anaconda3\\lib\\site-packages (from nltk->pattern) (8.0.4)\n",
      "Requirement already satisfied: joblib in c:\\users\\death\\anaconda3\\lib\\site-packages (from nltk->pattern) (1.2.0)\n",
      "Requirement already satisfied: regex>=2021.8.3 in c:\\users\\death\\anaconda3\\lib\\site-packages (from nltk->pattern) (2023.10.3)\n",
      "Requirement already satisfied: tqdm in c:\\users\\death\\anaconda3\\lib\\site-packages (from nltk->pattern) (4.65.0)\n",
      "Requirement already satisfied: charset-normalizer>=2.0.0 in c:\\users\\death\\anaconda3\\lib\\site-packages (from pdfminer.six->pattern) (2.0.4)\n",
      "Requirement already satisfied: cryptography>=36.0.0 in c:\\users\\death\\anaconda3\\lib\\site-packages (from pdfminer.six->pattern) (41.0.3)\n",
      "Requirement already satisfied: typing-extensions in c:\\users\\death\\anaconda3\\lib\\site-packages (from python-docx->pattern) (4.5.0)\n",
      "Requirement already satisfied: idna<4,>=2.5 in c:\\users\\death\\anaconda3\\lib\\site-packages (from requests->pattern) (3.4)\n",
      "Requirement already satisfied: urllib3<3,>=1.21.1 in c:\\users\\death\\anaconda3\\lib\\site-packages (from requests->pattern) (1.26.16)\n",
      "Requirement already satisfied: certifi>=2017.4.17 in c:\\users\\death\\anaconda3\\lib\\site-packages (from requests->pattern) (2023.7.22)\n",
      "Requirement already satisfied: jaraco.functools in c:\\users\\death\\anaconda3\\lib\\site-packages (from cheroot>=8.2.1->cherrypy->pattern) (3.9.0)\n",
      "Requirement already satisfied: cffi>=1.12 in c:\\users\\death\\anaconda3\\lib\\site-packages (from cryptography>=36.0.0->pdfminer.six->pattern) (1.15.1)\n",
      "Requirement already satisfied: tempora>=1.8 in c:\\users\\death\\anaconda3\\lib\\site-packages (from portend>=2.1.1->cherrypy->pattern) (5.5.0)\n",
      "Requirement already satisfied: colorama in c:\\users\\death\\anaconda3\\lib\\site-packages (from click->nltk->pattern) (0.4.6)\n",
      "Requirement already satisfied: jaraco.text in c:\\users\\death\\anaconda3\\lib\\site-packages (from jaraco.collections->cherrypy->pattern) (3.11.1)\n",
      "Requirement already satisfied: setuptools in c:\\users\\death\\anaconda3\\lib\\site-packages (from zc.lockfile->cherrypy->pattern) (68.0.0)\n",
      "Requirement already satisfied: pycparser in c:\\users\\death\\anaconda3\\lib\\site-packages (from cffi>=1.12->cryptography>=36.0.0->pdfminer.six->pattern) (2.21)\n",
      "Requirement already satisfied: pytz in c:\\users\\death\\anaconda3\\lib\\site-packages (from tempora>=1.8->portend>=2.1.1->cherrypy->pattern) (2023.3.post1)\n",
      "Requirement already satisfied: jaraco.context>=4.1 in c:\\users\\death\\anaconda3\\lib\\site-packages (from jaraco.text->jaraco.collections->cherrypy->pattern) (4.3.0)\n",
      "Requirement already satisfied: autocommand in c:\\users\\death\\anaconda3\\lib\\site-packages (from jaraco.text->jaraco.collections->cherrypy->pattern) (2.2.2)\n",
      "Requirement already satisfied: inflect in c:\\users\\death\\anaconda3\\lib\\site-packages (from jaraco.text->jaraco.collections->cherrypy->pattern) (7.0.0)\n",
      "Requirement already satisfied: pydantic>=1.9.1 in c:\\users\\death\\anaconda3\\lib\\site-packages (from inflect->jaraco.text->jaraco.collections->cherrypy->pattern) (1.10.12)\n",
      "Note: you may need to restart the kernel to use updated packages.\n"
     ]
    }
   ],
   "source": [
    "pip install pattern"
   ]
  },
  {
   "cell_type": "markdown",
   "id": "0a89cfc9",
   "metadata": {},
   "source": [
    "**Lemmatization** is a text pre-processing technique used in NLP models to break a word down to its root meaning to identify similarities. \n",
    "For example, a lemmatization algorithm would reduce the word **'better'** to its root word, or *lemme*, **'good'**."
   ]
  },
  {
   "cell_type": "code",
   "execution_count": 9,
   "id": "8f01c5be",
   "metadata": {},
   "outputs": [],
   "source": [
    "# LemmWord: extracting and adding\n",
    "# root word i.e.Lemma using pattern module\n",
    "import pattern\n",
    "from pattern.en import lemma, lexeme\n",
    "from nltk.stem import WordNetLemmatizer\n",
    "\n",
    " \n",
    "def LemmWord(word):\n",
    "    #print(lexeme(word))\n",
    "    word = word.strip()\n",
    "    return lemma(word)"
   ]
  },
  {
   "cell_type": "code",
   "execution_count": 11,
   "id": "4f335007",
   "metadata": {},
   "outputs": [
    {
     "name": "stdout",
     "output_type": "stream",
     "text": [
      "mesmerize\n"
     ]
    }
   ],
   "source": [
    "print(LemmWord(\"mesmerized\"))"
   ]
  },
  {
   "cell_type": "markdown",
   "id": "a90c2213",
   "metadata": {},
   "source": [
    "DeleteLetter : Function that Removes a letter from a given word."
   ]
  },
  {
   "cell_type": "code",
   "execution_count": 12,
   "id": "77e1ba8a",
   "metadata": {},
   "outputs": [],
   "source": [
    "# Deleting letters from the words\n",
    "def DeleteLetter(word):\n",
    "    delete_list = []\n",
    "    \n",
    "    # considering letters 0 to i then i to -1\n",
    "    # Leaving the ith letter\n",
    "    for i in range(len(word)):\n",
    "        # skip ith character\n",
    "        delete_list.append(word[0:i]+ word[i+1:])\n",
    "    return delete_list"
   ]
  },
  {
   "cell_type": "code",
   "execution_count": 13,
   "id": "8bbc48f5",
   "metadata": {},
   "outputs": [
    {
     "name": "stdout",
     "output_type": "stream",
     "text": [
      "['esmerized', 'msmerized', 'memerized', 'meserized', 'mesmrized', 'mesmeized', 'mesmerzed', 'mesmeried', 'mesmerizd', 'mesmerize']\n"
     ]
    }
   ],
   "source": [
    "print(DeleteLetter(\"mesmerized\"))"
   ]
  },
  {
   "cell_type": "markdown",
   "id": "6d80631d",
   "metadata": {},
   "source": [
    "Switch_ : This function swaps two letters of the word."
   ]
  },
  {
   "cell_type": "code",
   "execution_count": 14,
   "id": "8f098ab0",
   "metadata": {},
   "outputs": [],
   "source": [
    "# Switching two letters in a word\n",
    "def Switch_(word):\n",
    "    switch_l = []\n",
    " \n",
    "    #swap i th character with (i-1)th character\n",
    "    for i in range(1,len(word)):\n",
    "        # word(till i-1) + ith character + (i-1)th character + word(after i+1)\n",
    "        switch_l.append(word[0:i-1]+word[i:i+1]+word[i-1:i] +word[i+1:])\n",
    "    return switch_l"
   ]
  },
  {
   "cell_type": "code",
   "execution_count": 15,
   "id": "426ad394",
   "metadata": {},
   "outputs": [
    {
     "name": "stdout",
     "output_type": "stream",
     "text": [
      "['bacdef', 'acbdef', 'abdcef', 'abcedf', 'abcdfe']\n"
     ]
    }
   ],
   "source": [
    "print(Switch_(\"abcdef\"))"
   ]
  },
  {
   "cell_type": "markdown",
   "id": "4c17e18a",
   "metadata": {},
   "source": [
    "Replace_ : It changes one letter to another."
   ]
  },
  {
   "cell_type": "code",
   "execution_count": 16,
   "id": "100055fb",
   "metadata": {},
   "outputs": [],
   "source": [
    "def Replace_(word):\n",
    "    replace_list = []\n",
    "    alphs = 'abcdefghijklmnopqrstuvwxyz'\n",
    "    \n",
    "    # Replacing the letter one-by-one from the list of alphs\n",
    "    for i in range(len(word)):\n",
    "        for l in alphs:\n",
    "            replace_list.append(word[0:i]+l+ word[i+1:])\n",
    "    return replace_list\n"
   ]
  },
  {
   "cell_type": "code",
   "execution_count": 17,
   "id": "8e0873ec",
   "metadata": {},
   "outputs": [
    {
     "name": "stdout",
     "output_type": "stream",
     "text": [
      "['aello', 'bello', 'cello', 'dello', 'eello', 'fello', 'gello', 'hello', 'iello', 'jello', 'kello', 'lello', 'mello', 'nello', 'oello', 'pello', 'qello', 'rello', 'sello', 'tello', 'uello', 'vello', 'wello', 'xello', 'yello', 'zello', 'Hallo', 'Hbllo', 'Hcllo', 'Hdllo', 'Hello', 'Hfllo', 'Hgllo', 'Hhllo', 'Hillo', 'Hjllo', 'Hkllo', 'Hlllo', 'Hmllo', 'Hnllo', 'Hollo', 'Hpllo', 'Hqllo', 'Hrllo', 'Hsllo', 'Htllo', 'Hullo', 'Hvllo', 'Hwllo', 'Hxllo', 'Hyllo', 'Hzllo', 'Healo', 'Heblo', 'Heclo', 'Hedlo', 'Heelo', 'Heflo', 'Heglo', 'Hehlo', 'Heilo', 'Hejlo', 'Heklo', 'Hello', 'Hemlo', 'Henlo', 'Heolo', 'Heplo', 'Heqlo', 'Herlo', 'Heslo', 'Hetlo', 'Heulo', 'Hevlo', 'Hewlo', 'Hexlo', 'Heylo', 'Hezlo', 'Helao', 'Helbo', 'Helco', 'Heldo', 'Heleo', 'Helfo', 'Helgo', 'Helho', 'Helio', 'Heljo', 'Helko', 'Hello', 'Helmo', 'Helno', 'Heloo', 'Helpo', 'Helqo', 'Helro', 'Helso', 'Helto', 'Heluo', 'Helvo', 'Helwo', 'Helxo', 'Helyo', 'Helzo', 'Hella', 'Hellb', 'Hellc', 'Helld', 'Helle', 'Hellf', 'Hellg', 'Hellh', 'Helli', 'Hellj', 'Hellk', 'Helll', 'Hellm', 'Helln', 'Hello', 'Hellp', 'Hellq', 'Hellr', 'Hells', 'Hellt', 'Hellu', 'Hellv', 'Hellw', 'Hellx', 'Helly', 'Hellz']\n"
     ]
    }
   ],
   "source": [
    "print(Replace_(\"Hello\"))"
   ]
  },
  {
   "cell_type": "markdown",
   "id": "72357d55",
   "metadata": {},
   "source": [
    "insert_: It adds additional characters from the bunch of alphabets (one-by-one). "
   ]
  },
  {
   "cell_type": "code",
   "execution_count": 18,
   "id": "b7d713b1",
   "metadata": {},
   "outputs": [],
   "source": [
    "def insert_(word):\n",
    "    insert_list = []\n",
    "    alphs = 'abcdefghijklmnopqrstuvwxyz'\n",
    "    \n",
    "    # One new character at each location\n",
    "    for i in range(len(word) + 1):\n",
    "        for l in alphs:\n",
    "            insert_list.append((word[0:i]+l+ word[i:]))\n",
    "\n",
    "    return insert_list"
   ]
  },
  {
   "cell_type": "code",
   "execution_count": 19,
   "id": "2cd8e293",
   "metadata": {},
   "outputs": [
    {
     "name": "stdout",
     "output_type": "stream",
     "text": [
      "['ahello', 'bhello', 'chello', 'dhello', 'ehello', 'fhello', 'ghello', 'hhello', 'ihello', 'jhello', 'khello', 'lhello', 'mhello', 'nhello', 'ohello', 'phello', 'qhello', 'rhello', 'shello', 'thello', 'uhello', 'vhello', 'whello', 'xhello', 'yhello', 'zhello', 'haello', 'hbello', 'hcello', 'hdello', 'heello', 'hfello', 'hgello', 'hhello', 'hiello', 'hjello', 'hkello', 'hlello', 'hmello', 'hnello', 'hoello', 'hpello', 'hqello', 'hrello', 'hsello', 'htello', 'huello', 'hvello', 'hwello', 'hxello', 'hyello', 'hzello', 'heallo', 'hebllo', 'hecllo', 'hedllo', 'heello', 'hefllo', 'hegllo', 'hehllo', 'heillo', 'hejllo', 'hekllo', 'helllo', 'hemllo', 'henllo', 'heollo', 'hepllo', 'heqllo', 'herllo', 'hesllo', 'hetllo', 'heullo', 'hevllo', 'hewllo', 'hexllo', 'heyllo', 'hezllo', 'helalo', 'helblo', 'helclo', 'heldlo', 'helelo', 'helflo', 'helglo', 'helhlo', 'helilo', 'heljlo', 'helklo', 'helllo', 'helmlo', 'helnlo', 'helolo', 'helplo', 'helqlo', 'helrlo', 'helslo', 'heltlo', 'helulo', 'helvlo', 'helwlo', 'helxlo', 'helylo', 'helzlo', 'hellao', 'hellbo', 'hellco', 'helldo', 'helleo', 'hellfo', 'hellgo', 'hellho', 'hellio', 'helljo', 'hellko', 'helllo', 'hellmo', 'hellno', 'helloo', 'hellpo', 'hellqo', 'hellro', 'hellso', 'hellto', 'helluo', 'hellvo', 'hellwo', 'hellxo', 'hellyo', 'hellzo', 'helloa', 'hellob', 'helloc', 'hellod', 'helloe', 'hellof', 'hellog', 'helloh', 'helloi', 'helloj', 'hellok', 'hellol', 'hellom', 'hellon', 'helloo', 'hellop', 'helloq', 'hellor', 'hellos', 'hellot', 'hellou', 'hellov', 'hellow', 'hellox', 'helloy', 'helloz']\n"
     ]
    }
   ],
   "source": [
    "print(insert_(\"hello\"))"
   ]
  },
  {
   "cell_type": "markdown",
   "id": "d81309e3",
   "metadata": {},
   "source": [
    "Now, we have implemented all the five steps. It’s time to merge all the words (i.e. all functions) formed by those steps.\n",
    "\n",
    "To implement that we will be using 2 different functions"
   ]
  },
  {
   "cell_type": "code",
   "execution_count": 20,
   "id": "515930a6",
   "metadata": {},
   "outputs": [],
   "source": [
    "# Collecting all the words\n",
    "# in a set(so that no word will repeat)\n",
    "def colab_1(word, allow_switches=True):\n",
    "    colab_1 = set()\n",
    "    colab_1.update(DeleteLetter(word))\n",
    "    if allow_switches:\n",
    "        colab_1.update(Switch_(word))\n",
    "    colab_1.update(Replace_(word))\n",
    "    colab_1.update(insert_(word))\n",
    "    return colab_1\n",
    " \n",
    "# collecting words using by allowing switches\n",
    "def colab_2(word, allow_switches=True):\n",
    "    colab_2 = set()\n",
    "    edit_one = colab_1(word, allow_switches=allow_switches)\n",
    "    for w in edit_one:\n",
    "        if w:\n",
    "            edit_two = colab_1(w, allow_switches=allow_switches)\n",
    "            colab_2.update(edit_two)\n",
    "    return colab_2\n"
   ]
  },
  {
   "cell_type": "markdown",
   "id": "2aed829c",
   "metadata": {},
   "source": [
    "Now, The main task is to extract the correct words among all. To do so we will be using a get_corrections function."
   ]
  },
  {
   "cell_type": "markdown",
   "id": "10a3d5a9",
   "metadata": {},
   "source": [
    "Now the code is ready,  we can test it for any user input by the below code.\n",
    "\n",
    "Let’s print top 3 suggestions made by the Autocorrect."
   ]
  },
  {
   "cell_type": "markdown",
   "id": "7f421560",
   "metadata": {},
   "source": [
    "# Auto Correct"
   ]
  },
  {
   "cell_type": "markdown",
   "id": "59f9eee2",
   "metadata": {},
   "source": [
    "## Method-1:  Jaccard Distance"
   ]
  },
  {
   "cell_type": "code",
   "execution_count": 21,
   "id": "baa23b5c",
   "metadata": {},
   "outputs": [],
   "source": [
    "def jaccard_distance(word1, word2):\n",
    "    # Convert words into sets of characters\n",
    "    set1 = set(word1)\n",
    "    set2 = set(word2)\n",
    "    \n",
    "    # Compute the intersection and union of the character sets\n",
    "    intersection = len(set1.intersection(set2))\n",
    "    union = len(set1.union(set2))\n",
    "    \n",
    "    # Calculate the Jaccard distance\n",
    "    jaccard_distance = 1.0 - (intersection / union) if union > 0 else 0.0\n",
    "\n",
    "    return jaccard_distance"
   ]
  },
  {
   "cell_type": "code",
   "execution_count": 22,
   "id": "70f4aaae",
   "metadata": {},
   "outputs": [],
   "source": [
    "def get_jaccard_based_corrections(word, vocab, n=2):\n",
    "    best_suggestion = []\n",
    "    suggested_word = dict()\n",
    "    for i in vocab:\n",
    "        jd = jaccard_distance(word, i)\n",
    "        suggested_word[i] = jd\n",
    "    suggested_word = sorted(suggested_word.items(), key=lambda x: x[1])\n",
    "    best_suggestion = [item[0] for item in suggested_word[:n]]\n",
    "    #print(suggested_word)\n",
    "    # finding out the words with high frequencies\n",
    "    #best_suggestion = [[s, probs[s]] for s in list(reversed(suggested_word))]\n",
    "    return best_suggestion"
   ]
  },
  {
   "cell_type": "code",
   "execution_count": 24,
   "id": "5b977e3f",
   "metadata": {},
   "outputs": [
    {
     "name": "stdout",
     "output_type": "stream",
     "text": [
      "Enter any word:wolk\n",
      "woolwork look owl wool low\n"
     ]
    }
   ],
   "source": [
    "# Input\n",
    "my_word = input(\"Enter any word:\")\n",
    " \n",
    "# Counting word function\n",
    "word_count = counting_words(input_words)\n",
    " \n",
    "# Calculating probability\n",
    "probs = prob_cal(word_count)\n",
    " \n",
    "# only storing correct words\n",
    "tmp_corrections = get_jaccard_based_corrections(my_word, vocab, 5)\n",
    "print(*tmp_corrections)"
   ]
  },
  {
   "cell_type": "markdown",
   "id": "4f864d7d",
   "metadata": {},
   "source": [
    "You can notice the drawback of using Jaccard Distance the word 'woolwork' has higer probabaility than 'wool'."
   ]
  },
  {
   "cell_type": "markdown",
   "id": "94bb087c",
   "metadata": {},
   "source": [
    "## Medthod-2: Direct Correlation"
   ]
  },
  {
   "cell_type": "code",
   "execution_count": 25,
   "id": "d4d23f52",
   "metadata": {},
   "outputs": [],
   "source": [
    "def LemmWord(word):\n",
    "    #print(lexeme(word))\n",
    "    word = word.strip()\n",
    "    return lexeme(word)"
   ]
  },
  {
   "cell_type": "code",
   "execution_count": 26,
   "id": "23c7f4bc",
   "metadata": {},
   "outputs": [],
   "source": [
    "vocab_updated = set(input_words)\n",
    "for w in vocab:\n",
    "    words = LemmWord(w)\n",
    "    vocab_updated.update(words)"
   ]
  },
  {
   "cell_type": "code",
   "execution_count": 27,
   "id": "afdb5853",
   "metadata": {},
   "outputs": [],
   "source": [
    "def get_corrections(word, probs, vocab, n=2):\n",
    "    suggested_word = []\n",
    "    best_suggestion = []\n",
    "    if word in vocab:\n",
    "        suggested_word.append(word)\n",
    "    else:\n",
    "        suggested_word = list(colab_1(word).intersection(vocab)\n",
    "            or colab_2(word).intersection(vocab))\n",
    "    print(suggested_word)\n",
    "    # finding out the words with high frequencies\n",
    "    for s in suggested_word:\n",
    "        best_suggestion.append([s,probs.get(s,0)]);\n",
    "    best_suggestion.sort(key=lambda x: x[1],reverse=True)\n",
    "    return best_suggestion[:n]"
   ]
  },
  {
   "cell_type": "code",
   "execution_count": 28,
   "id": "20e31fff",
   "metadata": {},
   "outputs": [
    {
     "name": "stdout",
     "output_type": "stream",
     "text": [
      "Enter any word:wolk\n",
      "['polk', 'work', 'walk', 'folk', 'wolf']\n",
      "['work', 0.0003424464120670227] ['walk', 6.723424320687617e-05] ['wolf', 5.647676429377599e-05] ['folk', 3.316889331539225e-05] ['polk', 1.2550392065283554e-05]\n"
     ]
    }
   ],
   "source": [
    "# Input\n",
    "my_word = input(\"Enter any word:\")\n",
    " \n",
    "# Counting word function\n",
    "word_count = counting_words(input_words)\n",
    " \n",
    "# Calculating probability\n",
    "probs = prob_cal(word_count)\n",
    " \n",
    "# only storing correct words\n",
    "tmp_corrections = get_corrections(my_word, probs, vocab_updated, 7)\n",
    "print(*tmp_corrections)"
   ]
  }
 ],
 "metadata": {
  "kernelspec": {
   "display_name": "Python 3 (ipykernel)",
   "language": "python",
   "name": "python3"
  },
  "language_info": {
   "codemirror_mode": {
    "name": "ipython",
    "version": 3
   },
   "file_extension": ".py",
   "mimetype": "text/x-python",
   "name": "python",
   "nbconvert_exporter": "python",
   "pygments_lexer": "ipython3",
   "version": "3.9.18"
  }
 },
 "nbformat": 4,
 "nbformat_minor": 5
}
